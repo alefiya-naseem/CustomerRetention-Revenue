{
 "cells": [
  {
   "cell_type": "code",
   "execution_count": 2,
   "metadata": {},
   "outputs": [],
   "source": [
    "import pandas as pd\n",
    "import pickle"
   ]
  },
  {
   "cell_type": "code",
   "execution_count": 8,
   "metadata": {},
   "outputs": [],
   "source": [
    "df_holdout = pd.read_csv(\"/Users/alefiyanaseem/Desktop/Data Visualization/Using-Data-to-Bring-Customers/df_holdout_scholarjet.csv\")"
   ]
  },
  {
   "cell_type": "code",
   "execution_count": 9,
   "metadata": {},
   "outputs": [
    {
     "data": {
      "text/plain": [
       "(30375, 182)"
      ]
     },
     "execution_count": 9,
     "metadata": {},
     "output_type": "execute_result"
    }
   ],
   "source": [
    "df_holdout.shape"
   ]
  },
  {
   "cell_type": "code",
   "execution_count": 11,
   "metadata": {},
   "outputs": [],
   "source": [
    "df_holdout = df_holdout[[\"dayssincelastord\", \"percdirtythirty\", \"numvisitthreeone\", \"numvisitseventhree\", \n",
    "                         \"numvisitthirtyseven\", \"numvisitsixtythirty\", \"numloggedinone\", \"numloggedinthreeone\",\n",
    "                         \"numloggedinseventhree\", \"numloggedinthirtyseven\", \"numsecondsonsiteone\", \"numsecondsonsiteseventhree\", \n",
    "                         \"numsecondsonsitethirtyseven\", \"numtotalpageviewsthirtyseven\", \"numatcone\", \"numatcthreeone\", \n",
    "                         \"numatcseventhree\",  \"numatcthirtyseven\", \"numideaboardseventhree\", \"dayssincelastvisit\", \n",
    "                         \"numsearchtermsthreeone\", \"numsearchtermsthirtyseven\", \"percsecondsinbound\", \"percemailopenedone\", \n",
    "                         \"percemailopenedthreeone\",  \"percemailopenedseventhree\",  \"percemailopenedthirtyseven\", \n",
    "                         \"dayssinceenrollment\",  \"roll_up\",  \"currentstatus\"]]"
   ]
  },
  {
   "cell_type": "code",
   "execution_count": 12,
   "metadata": {},
   "outputs": [
    {
     "data": {
      "text/plain": [
       "(30375, 30)"
      ]
     },
     "execution_count": 12,
     "metadata": {},
     "output_type": "execute_result"
    }
   ],
   "source": [
    "df_holdout.shape"
   ]
  },
  {
   "cell_type": "code",
   "execution_count": null,
   "metadata": {},
   "outputs": [],
   "source": []
  },
  {
   "cell_type": "code",
   "execution_count": null,
   "metadata": {},
   "outputs": [],
   "source": []
  },
  {
   "cell_type": "code",
   "execution_count": 4,
   "metadata": {},
   "outputs": [],
   "source": [
    "import pickle\n",
    "class Model(object):\n",
    "    def __init__(self, path):\n",
    "        self.featureList = ['dayssincelastord', 'percdirtythirty', 'numvisitthreeone', 'numvisitseventhree',  \n",
    "                        'numvisitthirtyseven', 'numvisitsixtythirty', 'numloggedinone', 'numloggedinthreeone',  \n",
    "                        'numloggedinseventhree', 'numloggedinthirtyseven', 'numsecondsonsiteone', 'numsecondsonsiteseventhree', \n",
    "                        'numsecondsonsitethirtyseven', 'numtotalpageviewsthirtyseven', 'numatcone', 'numatcthreeone', \n",
    "                        'numatcseventhree',  'numatcthirtyseven',  'numideaboardseventhree',  'dayssincelastvisit', \n",
    "                        'numsearchtermsthreeone', 'numsearchtermsthirtyseven', 'percsecondsinbound', 'percemailopenedone',\n",
    "                        'percemailopenedthreeone',  'percemailopenedseventhree',  'percemailopenedthirtyseven', \n",
    "                            'dayssinceenrollment',  'roll_up_Unmanaged',  'currentstatus_Enrolled']\n",
    "\n",
    "        self.clf = pickle.load(open(path, 'rb'))\n",
    "\n",
    "    def predict(self, X):\n",
    "        X = X[self.featureList]\n",
    "        return self.clf.predict(X)\n"
   ]
  },
  {
   "cell_type": "code",
   "execution_count": null,
   "metadata": {},
   "outputs": [],
   "source": [
    "res = m.predict(customer)"
   ]
  }
 ],
 "metadata": {
  "kernelspec": {
   "display_name": "Python 3",
   "language": "python",
   "name": "python3"
  },
  "language_info": {
   "codemirror_mode": {
    "name": "ipython",
    "version": 3
   },
   "file_extension": ".py",
   "mimetype": "text/x-python",
   "name": "python",
   "nbconvert_exporter": "python",
   "pygments_lexer": "ipython3",
   "version": "3.6.8"
  }
 },
 "nbformat": 4,
 "nbformat_minor": 2
}
